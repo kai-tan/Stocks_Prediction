{
  "nbformat": 4,
  "nbformat_minor": 0,
  "metadata": {
    "kernelspec": {
      "name": "python3",
      "display_name": "Python 3"
    },
    "language_info": {
      "codemirror_mode": {
        "name": "ipython",
        "version": 3
      },
      "file_extension": ".py",
      "mimetype": "text/x-python",
      "name": "python",
      "nbconvert_exporter": "python",
      "pygments_lexer": "ipython3",
      "version": "3.7.4"
    },
    "colab": {
      "name": "Basic_Stock_Prediction.ipynb",
      "provenance": [],
      "collapsed_sections": [],
      "include_colab_link": true
    },
    "accelerator": "GPU"
  },
  "cells": [
    {
      "cell_type": "markdown",
      "metadata": {
        "id": "view-in-github",
        "colab_type": "text"
      },
      "source": [
        "<a href=\"https://colab.research.google.com/github/kai-tan/Stocks_Prediction/blob/master/Stock_Prediction_LSTM_3_Months_Horizon.ipynb\" target=\"_parent\"><img src=\"https://colab.research.google.com/assets/colab-badge.svg\" alt=\"Open In Colab\"/></a>"
      ]
    },
    {
      "cell_type": "markdown",
      "metadata": {
        "id": "L0e5sqhFnsIy",
        "colab_type": "text"
      },
      "source": [
        "# Changing to Percentage Return, using adj close instead. And predicting 3 months Stocks horizon instead of daily. I have added other stock fundamentals ratios as well in the hope that it will improve its prediction power. "
      ]
    },
    {
      "cell_type": "markdown",
      "metadata": {
        "id": "E6HfyUfMCgni",
        "colab_type": "text"
      },
      "source": [
        "I have used RapidAPI's alpha vantage and morningstar in order to get the data. "
      ]
    },
    {
      "cell_type": "code",
      "metadata": {
        "id": "b_xqKJ3xnn4S",
        "colab_type": "code",
        "outputId": "0bdbbe68-89f8-48c7-c27a-df2cfd6e078c",
        "colab": {
          "base_uri": "https://localhost:8080/",
          "height": 34
        }
      },
      "source": [
        "%tensorflow_version 2.x"
      ],
      "execution_count": 1,
      "outputs": [
        {
          "output_type": "stream",
          "text": [
            "TensorFlow 2.x selected.\n"
          ],
          "name": "stdout"
        }
      ]
    },
    {
      "cell_type": "code",
      "metadata": {
        "id": "PQMzF6qQqC_T",
        "colab_type": "code",
        "outputId": "a6ff625c-978b-4ded-ffc7-85025eaa8bc6",
        "colab": {
          "base_uri": "https://localhost:8080/",
          "height": 34
        }
      },
      "source": [
        "import tensorflow as tf\n",
        "import numpy as np\n",
        "import pandas as pd \n",
        "import matplotlib.pyplot as plt\n",
        "from sklearn.preprocessing import MinMaxScaler \n",
        "from time import time\n",
        "\n",
        "from tensorflow.python.keras.callbacks import TensorBoard\n",
        "from keras.callbacks import EarlyStopping\n",
        "from keras.callbacks import ModelCheckpoint\n",
        "from keras import regularizers\n",
        "\n"
      ],
      "execution_count": 2,
      "outputs": [
        {
          "output_type": "stream",
          "text": [
            "Using TensorFlow backend.\n"
          ],
          "name": "stderr"
        }
      ]
    },
    {
      "cell_type": "code",
      "metadata": {
        "id": "tEco0h6NlvxE",
        "colab_type": "code",
        "outputId": "34d6606c-bb96-4c47-a105-58a6addb33ef",
        "colab": {
          "base_uri": "https://localhost:8080/",
          "height": 34
        }
      },
      "source": [
        "print(tf.__version__)"
      ],
      "execution_count": 3,
      "outputs": [
        {
          "output_type": "stream",
          "text": [
            "2.1.0\n"
          ],
          "name": "stdout"
        }
      ]
    },
    {
      "cell_type": "markdown",
      "metadata": {
        "id": "0jMocJLJnR0C",
        "colab_type": "text"
      },
      "source": [
        "# Importing Google Key ratio for the preceding 10 years from 2019 - 2010 "
      ]
    },
    {
      "cell_type": "code",
      "metadata": {
        "id": "H_xAio-cndbG",
        "colab_type": "code",
        "colab": {}
      },
      "source": [
        "import requests\n",
        "import pprint\n",
        "import json\n",
        "\n",
        "url = \"https://morningstar1.p.rapidapi.com/convenient/keyratios\"\n",
        "\n",
        "querystring = {\"Mic\":\"XNAS\",\"Ticker\":\"GOOGL\"}\n",
        "\n",
        "headers = {\n",
        "    'x-rapidapi-host': \"morningstar1.p.rapidapi.com\",\n",
        "    'x-rapidapi-key': \"### REPLACE WITH YOUR OWN KEY ###\",   \n",
        "    'accept': \"string\"\n",
        "    }\n",
        "\n",
        "response = requests.request(\"GET\", url, headers=headers, params=querystring)\n",
        "\n",
        "result_dict = json.loads(response.text)\n"
      ],
      "execution_count": 0,
      "outputs": []
    },
    {
      "cell_type": "code",
      "metadata": {
        "id": "HdtbZAQvsw1n",
        "colab_type": "code",
        "colab": {}
      },
      "source": [
        "startDate = []\n",
        "endDate = []\n",
        "\n",
        "bookValuePerShare = [] \n",
        "earningsPerShare = []\n",
        "freeCashFlowPerShare = []\n",
        "grossMarginPercent = []\n",
        "operatingMarginPercent = []\n",
        "\n",
        "rAndD = []\n",
        "assetTurnoverOnAverage = [] \n",
        "financialLeverageOnAverage = []\n",
        "netMarginPercent = []\n",
        "returnOnAssetsPercent = []\n",
        "returnOnEquityPercent = []\n",
        "returnOnInvestedCapitalPercent = []\n",
        "taxRatePercent = []\n",
        "threeYearAverage = []\n",
        "freeCashFlowOrNetIncome = []\n",
        "freeCashFlowOrSalesPercent = []\n",
        "operatingCashFlowGrowthPercentYoy = []\n",
        "currentRatio = []\n",
        "debtOrEquity = []\n",
        "financialLeverage = []\n",
        "quickRatio = []\n",
        "assetTurnover = []\n",
        "daysSalesOutstanding = []\n",
        "fixedAssetsTurnover = []\n",
        "payablesPeriod = []\n",
        "receivablesTurnover = []"
      ],
      "execution_count": 0,
      "outputs": []
    },
    {
      "cell_type": "code",
      "metadata": {
        "id": "NZLjHrcv_z9T",
        "colab_type": "code",
        "colab": {
          "base_uri": "https://localhost:8080/",
          "height": 34
        },
        "outputId": "2096000d-f78e-44b1-cd41-2ba0be9c04d8"
      },
      "source": [
        "result_dict"
      ],
      "execution_count": 9,
      "outputs": [
        {
          "output_type": "execute_result",
          "data": {
            "text/plain": [
              "{'message': 'Oops, an error occurred. Please contact support@rapidapi.com'}"
            ]
          },
          "metadata": {
            "tags": []
          },
          "execution_count": 9
        }
      ]
    },
    {
      "cell_type": "code",
      "metadata": {
        "id": "wrnWFw6voBK6",
        "colab_type": "code",
        "outputId": "9b61c15a-4e29-4478-fed1-c92cb18bf2e2",
        "colab": {
          "base_uri": "https://localhost:8080/",
          "height": 231
        }
      },
      "source": [
        "for i in result_dict['result']: \n",
        "\n",
        "  startDate.append(i['startDate'])\n",
        "  endDate.append(i['endDate'])\n",
        "  for j, k in i['keyRatioFinancialsSection'].items(): \n",
        "    if j == 'bookValuePerShare':\n",
        "      bookValuePerShare.append(k)\n",
        "    elif j == 'earningsPerShare':\n",
        "      earningsPerShare.append(k)\n",
        "    elif j == 'freeCashFlowPerShare':\n",
        "      freeCashFlowPerShare.append(k)\n",
        "    elif j == 'grossMarginPercent': \n",
        "      grossMarginPercent.append(k)\n",
        "    elif j == 'operatingMarginPercent':\n",
        "      operatingMarginPercent.append(k)\n",
        "  \n",
        "\n",
        "  rAndD.append(i['keyRatioStatisticsSection']['marginsPercentageOfSalesSection']['rAndD'])\n",
        "  for l, m in i['keyRatioStatisticsSection']['profitabilitySection'].items(): \n",
        "    \n",
        "    if l == 'assetTurnoverOnAverage':\n",
        "      assetTurnoverOnAverage.append(m)\n",
        "    elif l == 'financialLeverageOnAverage':\n",
        "      financialLeverageOnAverage.append(m)\n",
        "    elif l == 'netMarginPercent':\n",
        "      netMarginPercent.append(m)\n",
        "    elif l == 'returnOnAssetsPercent': \n",
        "      returnOnAssetsPercent.append(m)\n",
        "    elif l == 'returnOnEquityPercent':\n",
        "      returnOnEquityPercent.append(m)\n",
        "    elif l == 'returnOnInvestedCapitalPercent':\n",
        "      returnOnInvestedCapitalPercent.append(m)\n",
        "    elif l == 'taxRatePercent':\n",
        "      taxRatePercent.append(m)\n",
        "  \n",
        "  threeYearAverage.append(i['keyRatioStatisticsSection']['growthSection']['revenueGrowthSection']['threeYearAverage'])\n",
        "\n",
        "  for n, o in i['keyRatioStatisticsSection']['cashflowRatiosSection'].items(): \n",
        "    if n == 'freeCashFlowOrNetIncome':\n",
        "      freeCashFlowOrNetIncome.append(o)\n",
        "    elif n == 'freeCashFlowOrSalesPercent':\n",
        "      freeCashFlowOrSalesPercent.append(o)\n",
        "    elif n == 'operatingCashFlowGrowthPercentYoy':\n",
        "      operatingCashFlowGrowthPercentYoy.append(o)\n",
        "\n",
        "  for p, q in i['keyRatioStatisticsSection']['financialHealthLiquiditySection'].items(): \n",
        "    if p == 'currentRatio':\n",
        "      currentRatio.append(q)\n",
        "    elif p == 'debtOrEquity':\n",
        "      debtOrEquity.append(q)\n",
        "    elif p == 'financialLeverage':\n",
        "      financialLeverage.append(q)\n",
        "    elif p == 'quickRatio':\n",
        "      quickRatio.append(q)\n",
        "  \n",
        "  for s, t in i['keyRatioStatisticsSection']['efficiencyRatiosSection'].items(): \n",
        "    if s == 'assetTurnover':\n",
        "      assetTurnover.append(t)\n",
        "    elif s == 'daysSalesOutstanding':\n",
        "      daysSalesOutstanding.append(t)\n",
        "    elif s == 'fixedAssetsTurnover':\n",
        "      fixedAssetsTurnover.append(t)\n",
        "    elif s == 'payablesPeriod':\n",
        "      payablesPeriod.append(t)\n",
        "    elif s == 'receivablesTurnover':\n",
        "      receivablesTurnover.append(t)"
      ],
      "execution_count": 8,
      "outputs": [
        {
          "output_type": "error",
          "ename": "KeyError",
          "evalue": "ignored",
          "traceback": [
            "\u001b[0;31m---------------------------------------------------------------------------\u001b[0m",
            "\u001b[0;31mKeyError\u001b[0m                                  Traceback (most recent call last)",
            "\u001b[0;32m<ipython-input-8-7eb45a29d52d>\u001b[0m in \u001b[0;36m<module>\u001b[0;34m()\u001b[0m\n\u001b[0;32m----> 1\u001b[0;31m \u001b[0;32mfor\u001b[0m \u001b[0mi\u001b[0m \u001b[0;32min\u001b[0m \u001b[0mresult_dict\u001b[0m\u001b[0;34m[\u001b[0m\u001b[0;34m'result'\u001b[0m\u001b[0;34m]\u001b[0m\u001b[0;34m:\u001b[0m\u001b[0;34m\u001b[0m\u001b[0;34m\u001b[0m\u001b[0m\n\u001b[0m\u001b[1;32m      2\u001b[0m \u001b[0;34m\u001b[0m\u001b[0m\n\u001b[1;32m      3\u001b[0m   \u001b[0mstartDate\u001b[0m\u001b[0;34m.\u001b[0m\u001b[0mappend\u001b[0m\u001b[0;34m(\u001b[0m\u001b[0mi\u001b[0m\u001b[0;34m[\u001b[0m\u001b[0;34m'startDate'\u001b[0m\u001b[0;34m]\u001b[0m\u001b[0;34m)\u001b[0m\u001b[0;34m\u001b[0m\u001b[0;34m\u001b[0m\u001b[0m\n\u001b[1;32m      4\u001b[0m   \u001b[0mendDate\u001b[0m\u001b[0;34m.\u001b[0m\u001b[0mappend\u001b[0m\u001b[0;34m(\u001b[0m\u001b[0mi\u001b[0m\u001b[0;34m[\u001b[0m\u001b[0;34m'endDate'\u001b[0m\u001b[0;34m]\u001b[0m\u001b[0;34m)\u001b[0m\u001b[0;34m\u001b[0m\u001b[0;34m\u001b[0m\u001b[0m\n\u001b[1;32m      5\u001b[0m   \u001b[0;32mfor\u001b[0m \u001b[0mj\u001b[0m\u001b[0;34m,\u001b[0m \u001b[0mk\u001b[0m \u001b[0;32min\u001b[0m \u001b[0mi\u001b[0m\u001b[0;34m[\u001b[0m\u001b[0;34m'keyRatioFinancialsSection'\u001b[0m\u001b[0;34m]\u001b[0m\u001b[0;34m.\u001b[0m\u001b[0mitems\u001b[0m\u001b[0;34m(\u001b[0m\u001b[0;34m)\u001b[0m\u001b[0;34m:\u001b[0m\u001b[0;34m\u001b[0m\u001b[0;34m\u001b[0m\u001b[0m\n",
            "\u001b[0;31mKeyError\u001b[0m: 'result'"
          ]
        }
      ]
    },
    {
      "cell_type": "code",
      "metadata": {
        "id": "zEOaH-Syzg__",
        "colab_type": "code",
        "colab": {}
      },
      "source": [
        "df_ratios = pd.DataFrame({'year': [2010, 2011, 2012, 2013, 2014, 2015, 2016, 2017, 2018, 2019], 'startDate': startDate, 'endDate': endDate, 'bookValuePerShare': bookValuePerShare, 'earningsPerShare': earningsPerShare, 'freeCashFlowPerShare': freeCashFlowPerShare, 'grossMarginPercent': grossMarginPercent, 'operatingMarginPercent': operatingMarginPercent, 'rAndD': rAndD\n",
        ", 'assetTurnoverOnAverage': assetTurnoverOnAverage,  \n",
        "'financialLeverageOnAverage': financialLeverageOnAverage, \n",
        "'netMarginPercent': netMarginPercent, \n",
        "'returnOnAssetsPercent': returnOnAssetsPercent, \n",
        "'returnOnEquityPercent': returnOnEquityPercent, \n",
        "'returnOnInvestedCapitalPercent': returnOnInvestedCapitalPercent, \n",
        "'taxRatePercent': taxRatePercent, \n",
        "'threeYearAverage': threeYearAverage, \n",
        "'freeCashFlowOrNetIncome': freeCashFlowOrNetIncome, \n",
        "'freeCashFlowOrSalesPercent': freeCashFlowOrSalesPercent, \n",
        "'operatingCashFlowGrowthPercentYoy': operatingCashFlowGrowthPercentYoy, \n",
        "'currentRatio': currentRatio, \n",
        "'debtOrEquity': debtOrEquity, \n",
        "'financialLeverage': financialLeverage, \n",
        "'quickRatio': quickRatio, \n",
        "'assetTurnover': assetTurnover, \n",
        "'daysSalesOutstanding': daysSalesOutstanding, \n",
        "'fixedAssetsTurnover': fixedAssetsTurnover, \n",
        "'payablesPeriod': payablesPeriod, \n",
        "'receivablesTurnover': receivablesTurnover})"
      ],
      "execution_count": 0,
      "outputs": []
    },
    {
      "cell_type": "code",
      "metadata": {
        "id": "5JnFINojMpZz",
        "colab_type": "code",
        "colab": {}
      },
      "source": [
        "df_ratios"
      ],
      "execution_count": 0,
      "outputs": []
    },
    {
      "cell_type": "code",
      "metadata": {
        "id": "tt5g7q5qBDy3",
        "colab_type": "code",
        "colab": {}
      },
      "source": [
        "df_ratio_num = df_ratios.drop(['endDate', 'startDate', 'year'], axis=1)"
      ],
      "execution_count": 0,
      "outputs": []
    },
    {
      "cell_type": "code",
      "metadata": {
        "id": "A-DIIFaACHDJ",
        "colab_type": "code",
        "colab": {}
      },
      "source": [
        "df_ratio_num.diff(axis=0).mean()"
      ],
      "execution_count": 0,
      "outputs": []
    },
    {
      "cell_type": "code",
      "metadata": {
        "id": "XLe9e5uj_usN",
        "colab_type": "code",
        "colab": {}
      },
      "source": [
        "url = \"https://alpha-vantage.p.rapidapi.com/query\"\n",
        "\n",
        "querystring = {\"outputsize\":\"full\",\"datatype\":\"json\",\"function\":\"TIME_SERIES_DAILY_ADJUSTED\",\"symbol\":\"GOOGL\"}\n",
        "\n",
        "headers = {\n",
        "    'x-rapidapi-host': \"alpha-vantage.p.rapidapi.com\",\n",
        "    'x-rapidapi-key': \"### REPLACE WITH YOUR OWN KEY ###\"\n",
        "    }\n",
        "\n",
        "response = requests.request(\"GET\", url, headers=headers, params=querystring)\n",
        "\n",
        "result_dict = json.loads(response.text)\n",
        "result_dict"
      ],
      "execution_count": 0,
      "outputs": []
    },
    {
      "cell_type": "code",
      "metadata": {
        "id": "COfXKeWJAu2c",
        "colab_type": "code",
        "colab": {}
      },
      "source": [
        "date_data = []\n",
        "\n",
        "high = []\n",
        "low = []\n",
        "adjustedClose = []\n",
        "volume = []"
      ],
      "execution_count": 0,
      "outputs": []
    },
    {
      "cell_type": "code",
      "metadata": {
        "id": "9MLIwEaKAbLa",
        "colab_type": "code",
        "colab": {}
      },
      "source": [
        "for i, j in result_dict['Time Series (Daily)'].items():\n",
        "\n",
        "  date_data.append(i)\n",
        "\n",
        "  for k, l in j.items():\n",
        "    \n",
        "    if k == '2. high': \n",
        "      high.append(l)\n",
        "    elif k == '3. low':\n",
        "      low.append(l)\n",
        "    elif k == '5. adjusted close': \n",
        "      adjustedClose.append(l)\n",
        "    elif k == '6. volume': \n",
        "      volume.append(l)"
      ],
      "execution_count": 0,
      "outputs": []
    },
    {
      "cell_type": "code",
      "metadata": {
        "id": "L0_uO8amCR7B",
        "colab_type": "code",
        "colab": {}
      },
      "source": [
        "df_date = pd.DataFrame({ 'date_data': date_data, 'high': high, 'low': low, \n",
        "'adjustedClose': adjustedClose, 'volume': volume })"
      ],
      "execution_count": 0,
      "outputs": []
    },
    {
      "cell_type": "code",
      "metadata": {
        "id": "f2Mhs9pZC5rM",
        "colab_type": "code",
        "colab": {}
      },
      "source": [
        "df_date.dtypes"
      ],
      "execution_count": 0,
      "outputs": []
    },
    {
      "cell_type": "code",
      "metadata": {
        "id": "Q9fhDndbGRTs",
        "colab_type": "code",
        "colab": {}
      },
      "source": [
        "df_date['date_data'] =  pd.to_datetime(df_date['date_data'], format='%Y-%m-%d')"
      ],
      "execution_count": 0,
      "outputs": []
    },
    {
      "cell_type": "code",
      "metadata": {
        "id": "cxXigYPDKkb6",
        "colab_type": "code",
        "colab": {}
      },
      "source": [
        "import datetime"
      ],
      "execution_count": 0,
      "outputs": []
    },
    {
      "cell_type": "code",
      "metadata": {
        "id": "Z4iCM5VnGRWh",
        "colab_type": "code",
        "colab": {}
      },
      "source": [
        "df_date['year'] = df_date['date_data'].dt.year"
      ],
      "execution_count": 0,
      "outputs": []
    },
    {
      "cell_type": "code",
      "metadata": {
        "id": "S42fnQMEGRZb",
        "colab_type": "code",
        "colab": {}
      },
      "source": [
        "df_date = df_date.merge(df_ratios,how='outer',  left_on='year', right_on='year')"
      ],
      "execution_count": 0,
      "outputs": []
    },
    {
      "cell_type": "code",
      "metadata": {
        "id": "PgHfY8VYIhtN",
        "colab_type": "code",
        "colab": {}
      },
      "source": [
        "df_date = df_date.drop(['year', 'startDate', 'endDate'],axis=1)"
      ],
      "execution_count": 0,
      "outputs": []
    },
    {
      "cell_type": "code",
      "metadata": {
        "id": "TzOa0Sn8It1T",
        "colab_type": "code",
        "colab": {}
      },
      "source": [
        "df_date"
      ],
      "execution_count": 0,
      "outputs": []
    },
    {
      "cell_type": "code",
      "metadata": {
        "id": "udh-1bX-PuHM",
        "colab_type": "code",
        "colab": {}
      },
      "source": [
        "df_date = df_date.interpolate(limit_direction='both')"
      ],
      "execution_count": 0,
      "outputs": []
    },
    {
      "cell_type": "code",
      "metadata": {
        "id": "pIARW8AdJ91l",
        "colab_type": "code",
        "colab": {}
      },
      "source": [
        "df_date"
      ],
      "execution_count": 0,
      "outputs": []
    },
    {
      "cell_type": "code",
      "metadata": {
        "colab_type": "code",
        "id": "6OFdsJqmVgu9",
        "colab": {}
      },
      "source": [
        "data = df_date.rename(columns={'date_data': 'Date', 'adjustedClose': 'Adj Close'})\n"
      ],
      "execution_count": 0,
      "outputs": []
    },
    {
      "cell_type": "code",
      "metadata": {
        "id": "A1u0n6E8XFru",
        "colab_type": "code",
        "colab": {}
      },
      "source": [
        "data"
      ],
      "execution_count": 0,
      "outputs": []
    },
    {
      "cell_type": "code",
      "metadata": {
        "id": "FubZ-K2Mpu4a",
        "colab_type": "code",
        "colab": {}
      },
      "source": [
        "def adjclosefromdate(df, date): \n",
        "    return float(df[df['Date'] == date]['Adj Close'])"
      ],
      "execution_count": 0,
      "outputs": []
    },
    {
      "cell_type": "code",
      "metadata": {
        "id": "h6ltc3oprj8G",
        "colab_type": "code",
        "colab": {}
      },
      "source": [
        "adjCloseBeginning = adjclosefromdate(data, '2004-08-19')"
      ],
      "execution_count": 0,
      "outputs": []
    },
    {
      "cell_type": "code",
      "metadata": {
        "id": "L-ERXG0FbgH1",
        "colab_type": "code",
        "colab": {}
      },
      "source": [
        "data['Adj Close'] = data['Adj Close'].astype(np.float)"
      ],
      "execution_count": 0,
      "outputs": []
    },
    {
      "cell_type": "code",
      "metadata": {
        "id": "Ev9pYCRKpb_A",
        "colab_type": "code",
        "colab": {}
      },
      "source": [
        "data['% Change In Adj Close'] = (100 * (data['Adj Close'] - adjCloseBeginning))/adjCloseBeginning"
      ],
      "execution_count": 0,
      "outputs": []
    },
    {
      "cell_type": "code",
      "metadata": {
        "id": "fE5_x0MglvxM",
        "colab_type": "code",
        "colab": {}
      },
      "source": [
        "data_training = data[data['Date']<'2019-01-01'].copy()\n",
        "data_training"
      ],
      "execution_count": 0,
      "outputs": []
    },
    {
      "cell_type": "code",
      "metadata": {
        "id": "kni4ocKflvxO",
        "colab_type": "code",
        "colab": {}
      },
      "source": [
        "data_test = data[data['Date']>='2019-01-01'].copy()\n",
        "data_test"
      ],
      "execution_count": 0,
      "outputs": []
    },
    {
      "cell_type": "code",
      "metadata": {
        "id": "W1xMtlzYv2uc",
        "colab_type": "code",
        "colab": {}
      },
      "source": [
        "training_data_y = data_training['% Change In Adj Close']"
      ],
      "execution_count": 0,
      "outputs": []
    },
    {
      "cell_type": "code",
      "metadata": {
        "id": "zDezy6PmlvxR",
        "colab_type": "code",
        "colab": {}
      },
      "source": [
        "training_data = data_training.drop(['Date','high', 'low', 'volume', '% Change In Adj Close'], axis=1)\n",
        "training_data.columns"
      ],
      "execution_count": 0,
      "outputs": []
    },
    {
      "cell_type": "code",
      "metadata": {
        "id": "g4X825IWcz4F",
        "colab_type": "code",
        "colab": {}
      },
      "source": [
        "training_data.shape"
      ],
      "execution_count": 0,
      "outputs": []
    },
    {
      "cell_type": "code",
      "metadata": {
        "id": "DGoomq0LwDM1",
        "colab_type": "code",
        "colab": {}
      },
      "source": [
        "training_data_y"
      ],
      "execution_count": 0,
      "outputs": []
    },
    {
      "cell_type": "code",
      "metadata": {
        "id": "WZYRPHtdlvxT",
        "colab_type": "code",
        "colab": {}
      },
      "source": [
        "scaler = MinMaxScaler()\n",
        "training_data = scaler.fit_transform(training_data)\n",
        "training_data"
      ],
      "execution_count": 0,
      "outputs": []
    },
    {
      "cell_type": "code",
      "metadata": {
        "id": "e37tXWFRLi8S",
        "colab_type": "code",
        "colab": {}
      },
      "source": [
        "scaler2 = MinMaxScaler()\n",
        "training_data_y = scaler.fit_transform(np.array(training_data_y).reshape(-1, 1))\n",
        "training_data_y"
      ],
      "execution_count": 0,
      "outputs": []
    },
    {
      "cell_type": "code",
      "metadata": {
        "id": "lZ2OHkQyL67_",
        "colab_type": "code",
        "colab": {}
      },
      "source": [
        "training_data_y = np.squeeze(training_data_y)"
      ],
      "execution_count": 0,
      "outputs": []
    },
    {
      "cell_type": "code",
      "metadata": {
        "id": "gP-LlcFNczDs",
        "colab_type": "code",
        "colab": {}
      },
      "source": [
        "training_data_y.shape"
      ],
      "execution_count": 0,
      "outputs": []
    },
    {
      "cell_type": "code",
      "metadata": {
        "id": "B2HxtMnklvxW",
        "colab_type": "code",
        "colab": {}
      },
      "source": [
        "X_train = []\n",
        "y_train = []"
      ],
      "execution_count": 0,
      "outputs": []
    },
    {
      "cell_type": "code",
      "metadata": {
        "id": "Vi6_4zL6lvxY",
        "colab_type": "code",
        "colab": {}
      },
      "source": [
        "training_data.shape"
      ],
      "execution_count": 0,
      "outputs": []
    },
    {
      "cell_type": "code",
      "metadata": {
        "id": "Z901kWZalvxb",
        "colab_type": "code",
        "colab": {}
      },
      "source": [
        "# for i in range(60, training_data.shape[0]):\n",
        "#     X_train.append(training_data[i-60:i])\n",
        "#     y_train.append(training_data[i, 0])\n",
        "\n",
        "for i in range(180, training_data.shape[0]):\n",
        "  if i + 90 >= training_data.shape[0]: \n",
        "    break\n",
        "  else:\n",
        "    X_train.append(training_data[i-180: i])\n",
        "    y_train.append(training_data_y[i+90])"
      ],
      "execution_count": 0,
      "outputs": []
    },
    {
      "cell_type": "code",
      "metadata": {
        "id": "PNsnoALdlvxd",
        "colab_type": "code",
        "colab": {}
      },
      "source": [
        "X_train, y_train = np.array(X_train), np.array(y_train)"
      ],
      "execution_count": 0,
      "outputs": []
    },
    {
      "cell_type": "code",
      "metadata": {
        "id": "i4xypbovlvxf",
        "colab_type": "code",
        "colab": {}
      },
      "source": [
        "X_train.shape, y_train.shape"
      ],
      "execution_count": 0,
      "outputs": []
    },
    {
      "cell_type": "code",
      "metadata": {
        "colab_type": "code",
        "id": "osVsV_LOKYWw",
        "colab": {}
      },
      "source": [
        "np.any(np.isnan(X_train))"
      ],
      "execution_count": 0,
      "outputs": []
    },
    {
      "cell_type": "code",
      "metadata": {
        "id": "yCEJzSOslvxh",
        "colab_type": "code",
        "colab": {}
      },
      "source": [
        "from tensorflow.keras import Sequential \n",
        "from tensorflow.keras.layers import Dense, LSTM, Dropout "
      ],
      "execution_count": 0,
      "outputs": []
    },
    {
      "cell_type": "code",
      "metadata": {
        "id": "PPW5W5IElvxj",
        "colab_type": "code",
        "colab": {}
      },
      "source": [
        "regressor = Sequential()\n",
        "\n",
        "regressor.add(LSTM(units = 180, activation='relu', return_sequences=True, input_shape=(X_train.shape[1], 27), kernel_regularizer=regularizers.l2(0.01), activity_regularizer=regularizers.l1(0.01)))\n",
        "regressor.add(Dropout(0.2))\n",
        "\n",
        "regressor.add(LSTM(units = 180, activation='relu', return_sequences=True, kernel_regularizer=regularizers.l2(0.01), activity_regularizer=regularizers.l1(0.01)))\n",
        "regressor.add(Dropout(0.3))\n",
        "\n",
        "# regressor.add(LSTM(units = 180, activation='relu', return_sequences=True, kernel_regularizer=regularizers.l2(0.01), activity_regularizer=regularizers.l1(0.01)))\n",
        "# regressor.add(Dropout(0.4))\n",
        "\n",
        "regressor.add(LSTM(units = 180, activation='relu', kernel_regularizer=regularizers.l2(0.01), activity_regularizer=regularizers.l1(0.01)))\n",
        "regressor.add(Dropout(0.5))\n",
        "\n",
        "regressor.add(Dense(units = 1))"
      ],
      "execution_count": 0,
      "outputs": []
    },
    {
      "cell_type": "code",
      "metadata": {
        "id": "A2W6jWh1lvxm",
        "colab_type": "code",
        "colab": {}
      },
      "source": [
        "regressor.summary()"
      ],
      "execution_count": 0,
      "outputs": []
    },
    {
      "cell_type": "code",
      "metadata": {
        "id": "YmRafWp22ZYB",
        "colab_type": "code",
        "colab": {}
      },
      "source": [
        "adam = tf.keras.optimizers.Adam(\n",
        "    learning_rate=0.003, beta_1=0.9, beta_2=0.999, epsilon=1e-07, name='Adam', clipnorm=1, clipvalue=0.5)"
      ],
      "execution_count": 0,
      "outputs": []
    },
    {
      "cell_type": "code",
      "metadata": {
        "id": "l8KbT88mR4mJ",
        "colab_type": "code",
        "colab": {}
      },
      "source": [
        "NAME = 'Basic_Stock_Prediction_{}'.format(time())"
      ],
      "execution_count": 0,
      "outputs": []
    },
    {
      "cell_type": "code",
      "metadata": {
        "id": "DbY89IDCMx_M",
        "colab_type": "code",
        "colab": {}
      },
      "source": [
        "tensorboard = TensorBoard(log_dir='logs/{}'.format(NAME))"
      ],
      "execution_count": 0,
      "outputs": []
    },
    {
      "cell_type": "code",
      "metadata": {
        "id": "nSh47--elFee",
        "colab_type": "code",
        "colab": {}
      },
      "source": [
        "earlystopping = EarlyStopping(monitor='val_loss', mode='min', verbose=1, patience=5)"
      ],
      "execution_count": 0,
      "outputs": []
    },
    {
      "cell_type": "code",
      "metadata": {
        "id": "I2XzfKP3mihH",
        "colab_type": "code",
        "colab": {}
      },
      "source": [
        "modelcheckpoint = ModelCheckpoint('best_model.h5', monitor='val_loss', mode='min', verbose=1, save_best_only=True)\n"
      ],
      "execution_count": 0,
      "outputs": []
    },
    {
      "cell_type": "code",
      "metadata": {
        "id": "FDRFA6aplvxq",
        "colab_type": "code",
        "colab": {}
      },
      "source": [
        "regressor.compile(optimizer=adam, loss='mean_squared_error')\n"
      ],
      "execution_count": 0,
      "outputs": []
    },
    {
      "cell_type": "code",
      "metadata": {
        "id": "bZHsEQWslvxs",
        "colab_type": "code",
        "colab": {}
      },
      "source": [
        "history = regressor.fit(X_train, y_train, epochs=50, batch_size=64, validation_split=0.15, callbacks=[tensorboard, earlystopping, modelcheckpoint])\n"
      ],
      "execution_count": 0,
      "outputs": []
    },
    {
      "cell_type": "code",
      "metadata": {
        "id": "YZSMkCQd03-_",
        "colab_type": "code",
        "colab": {}
      },
      "source": [
        "plot_df = pd.DataFrame(history.history)\n",
        "plot_df.plot()"
      ],
      "execution_count": 0,
      "outputs": []
    },
    {
      "cell_type": "code",
      "metadata": {
        "id": "9f-8fuzNkU_4",
        "colab_type": "code",
        "colab": {}
      },
      "source": [
        "%load_ext tensorboard\n",
        "%tensorboard --logdir logs"
      ],
      "execution_count": 0,
      "outputs": []
    },
    {
      "cell_type": "markdown",
      "metadata": {
        "id": "aDjYV2sfXbZV",
        "colab_type": "text"
      },
      "source": [
        "# Evaluating test set and plot on the test set "
      ]
    },
    {
      "cell_type": "code",
      "metadata": {
        "id": "wKQWb1SGlvxu",
        "colab_type": "code",
        "colab": {}
      },
      "source": [
        "data_test.head()"
      ],
      "execution_count": 0,
      "outputs": []
    },
    {
      "cell_type": "code",
      "metadata": {
        "id": "OOgQQDA58fI0",
        "colab_type": "code",
        "colab": {}
      },
      "source": [
        "data_test"
      ],
      "execution_count": 0,
      "outputs": []
    },
    {
      "cell_type": "code",
      "metadata": {
        "id": "rQOlEKqJrxJy",
        "colab_type": "code",
        "colab": {}
      },
      "source": [
        "past_180_days = data_training.head(180)"
      ],
      "execution_count": 0,
      "outputs": []
    },
    {
      "cell_type": "code",
      "metadata": {
        "id": "hWn0n5f0sDOE",
        "colab_type": "code",
        "colab": {}
      },
      "source": [
        "past_180_days.head()"
      ],
      "execution_count": 0,
      "outputs": []
    },
    {
      "cell_type": "code",
      "metadata": {
        "id": "N13tx5kHtNIG",
        "colab_type": "code",
        "colab": {}
      },
      "source": [
        "df = data_test.append(past_180_days, ignore_index=True)"
      ],
      "execution_count": 0,
      "outputs": []
    },
    {
      "cell_type": "code",
      "metadata": {
        "id": "GRYhBecQ-Cj7",
        "colab_type": "code",
        "colab": {}
      },
      "source": [
        "inputs_y = df['% Change In Adj Close']"
      ],
      "execution_count": 0,
      "outputs": []
    },
    {
      "cell_type": "code",
      "metadata": {
        "id": "2YXxzaE1-OGr",
        "colab_type": "code",
        "colab": {}
      },
      "source": [
        "inputs_y = np.array(inputs_y).reshape(-1, 1)"
      ],
      "execution_count": 0,
      "outputs": []
    },
    {
      "cell_type": "code",
      "metadata": {
        "id": "TMTq6iYe-hbE",
        "colab_type": "code",
        "colab": {}
      },
      "source": [
        "inputs_y.shape"
      ],
      "execution_count": 0,
      "outputs": []
    },
    {
      "cell_type": "code",
      "metadata": {
        "id": "MU8MdHZyuQW5",
        "colab_type": "code",
        "colab": {}
      },
      "source": [
        "df = df.drop(['Date', 'high', 'low', 'volume', '% Change In Adj Close'], axis = 1)\n",
        "df.head()"
      ],
      "execution_count": 0,
      "outputs": []
    },
    {
      "cell_type": "code",
      "metadata": {
        "id": "aur6IkTg92RL",
        "colab_type": "code",
        "colab": {}
      },
      "source": [
        "df.shape"
      ],
      "execution_count": 0,
      "outputs": []
    },
    {
      "cell_type": "code",
      "metadata": {
        "id": "CCa88X6luRn0",
        "colab_type": "code",
        "colab": {}
      },
      "source": [
        "inputs = scaler.transform(df)\n",
        "inputs"
      ],
      "execution_count": 0,
      "outputs": []
    },
    {
      "cell_type": "code",
      "metadata": {
        "id": "EoWXffLG9-xi",
        "colab_type": "code",
        "colab": {}
      },
      "source": [
        "inputs_y = scaler1.transform(inputs_y)\n",
        "inputs_y"
      ],
      "execution_count": 0,
      "outputs": []
    },
    {
      "cell_type": "code",
      "metadata": {
        "id": "dRTET2lKuUa4",
        "colab_type": "code",
        "colab": {}
      },
      "source": [
        "X_test = []\n",
        "y_test = [] \n",
        "\n",
        "# for i in range(60, inputs.shape[0]):\n",
        "#   X_test.append(inputs[i-60:i])\n",
        "#   y_test.append(inputs[i, 0])\n",
        "\n",
        "for i in range(180, inputs.shape[0]):\n",
        "  if i + 90 >= inputs.shape[0]: \n",
        "    break\n",
        "  else:\n",
        "    X_test.append(inputs[i-180: i])\n",
        "    y_test.append(np.squeeze(inputs_y)[i+90])"
      ],
      "execution_count": 0,
      "outputs": []
    },
    {
      "cell_type": "code",
      "metadata": {
        "id": "z8NDSW2yuUms",
        "colab_type": "code",
        "colab": {}
      },
      "source": [
        "X_test, y_test = np.array(X_test), np.array(y_test)"
      ],
      "execution_count": 0,
      "outputs": []
    },
    {
      "cell_type": "code",
      "metadata": {
        "id": "EeavJKmvvvgW",
        "colab_type": "code",
        "colab": {}
      },
      "source": [
        "X_test.shape, y_test.shape"
      ],
      "execution_count": 0,
      "outputs": []
    },
    {
      "cell_type": "code",
      "metadata": {
        "id": "-Tkf_xPs9-U5",
        "colab_type": "code",
        "colab": {}
      },
      "source": [
        "results = regressor.evaluate(X_test, y_test, batch_size=128)\n",
        "print('test loss, test acc:', results)"
      ],
      "execution_count": 0,
      "outputs": []
    },
    {
      "cell_type": "code",
      "metadata": {
        "id": "kwsBUh29vwyL",
        "colab_type": "code",
        "colab": {}
      },
      "source": [
        "y_pred = regressor.predict(X_test)"
      ],
      "execution_count": 0,
      "outputs": []
    },
    {
      "cell_type": "code",
      "metadata": {
        "id": "_MC40EkjA4Sf",
        "colab_type": "code",
        "colab": {}
      },
      "source": [
        "y_pred = scaler1.inverse_transform(np.array(y_pred).reshape(-1, 1))"
      ],
      "execution_count": 0,
      "outputs": []
    },
    {
      "cell_type": "code",
      "metadata": {
        "id": "CwrgCBaHA4Vf",
        "colab_type": "code",
        "colab": {}
      },
      "source": [
        "y_test = scaler1.inverse_transform(np.array(y_test).reshape(-1, 1))"
      ],
      "execution_count": 0,
      "outputs": []
    },
    {
      "cell_type": "code",
      "metadata": {
        "id": "rKWxJ2UxvxGX",
        "colab_type": "code",
        "colab": {}
      },
      "source": [
        "# scaler.scale_"
      ],
      "execution_count": 0,
      "outputs": []
    },
    {
      "cell_type": "code",
      "metadata": {
        "id": "7m6d-b6oxpHf",
        "colab_type": "code",
        "colab": {}
      },
      "source": [
        "# scale = 1/4.10194301e-04"
      ],
      "execution_count": 0,
      "outputs": []
    },
    {
      "cell_type": "code",
      "metadata": {
        "id": "_9rtaUICyMbl",
        "colab_type": "code",
        "colab": {}
      },
      "source": [
        "# y_pred = y_pred*scale"
      ],
      "execution_count": 0,
      "outputs": []
    },
    {
      "cell_type": "code",
      "metadata": {
        "id": "e2ARgBCTxpmb",
        "colab_type": "code",
        "colab": {}
      },
      "source": [
        "# y_test = y_test*scale"
      ],
      "execution_count": 0,
      "outputs": []
    },
    {
      "cell_type": "code",
      "metadata": {
        "id": "7obOyGeiya9T",
        "colab_type": "code",
        "colab": {}
      },
      "source": [
        "plt.figure(figsize=(14, 5))\n",
        "plt.plot(y_test, color='red', label='Real % Change in Google Stock Price')\n",
        "plt.plot(y_pred, color='blue', label='Predicted % Change in Google Stock Price')\n",
        "plt.title('% Change in Google Stock Price')\n",
        "plt.xlabel('Time')\n",
        "plt.ylabel('% Change in Google Stock Price')\n",
        "plt.legend()\n",
        "plt.show()"
      ],
      "execution_count": 0,
      "outputs": []
    },
    {
      "cell_type": "markdown",
      "metadata": {
        "id": "lYS6_y3pXH0u",
        "colab_type": "text"
      },
      "source": [
        "# Miscellaneous: Plot the training sets with label and see how it looks.  "
      ]
    },
    {
      "cell_type": "code",
      "metadata": {
        "id": "23-mTcpU9E9b",
        "colab_type": "code",
        "colab": {}
      },
      "source": [
        "yy_pred = regressor.predict(X_train)"
      ],
      "execution_count": 0,
      "outputs": []
    },
    {
      "cell_type": "code",
      "metadata": {
        "id": "SYYqDD-m9Qpx",
        "colab_type": "code",
        "colab": {}
      },
      "source": [
        "yy_pred = yy_pred*scale"
      ],
      "execution_count": 0,
      "outputs": []
    },
    {
      "cell_type": "code",
      "metadata": {
        "id": "5TdpLpcJMR8e",
        "colab_type": "code",
        "colab": {}
      },
      "source": [
        "yy_pred.shape"
      ],
      "execution_count": 0,
      "outputs": []
    },
    {
      "cell_type": "code",
      "metadata": {
        "colab_type": "code",
        "id": "nBERVWYnLBQo",
        "colab": {}
      },
      "source": [
        "yy_train = y_train*scale"
      ],
      "execution_count": 0,
      "outputs": []
    },
    {
      "cell_type": "code",
      "metadata": {
        "id": "_xnRDvehDz7o",
        "colab_type": "code",
        "colab": {}
      },
      "source": [
        "yy_train.shape"
      ],
      "execution_count": 0,
      "outputs": []
    },
    {
      "cell_type": "code",
      "metadata": {
        "id": "EHqwptDNEm1z",
        "colab_type": "code",
        "colab": {}
      },
      "source": [
        "yy_train[-1]"
      ],
      "execution_count": 0,
      "outputs": []
    },
    {
      "cell_type": "code",
      "metadata": {
        "id": "Gd4QQT81DeCC",
        "colab_type": "code",
        "colab": {}
      },
      "source": [
        "additional_array = scaler.inverse_transform(training_data)[180:270, 4]"
      ],
      "execution_count": 0,
      "outputs": []
    },
    {
      "cell_type": "code",
      "metadata": {
        "id": "y5gyzFzNKBn_",
        "colab_type": "code",
        "colab": {}
      },
      "source": [
        "additional_array"
      ],
      "execution_count": 0,
      "outputs": []
    },
    {
      "cell_type": "code",
      "metadata": {
        "id": "_Pxp6FISEcbO",
        "colab_type": "code",
        "colab": {}
      },
      "source": [
        "yy_train = np.concatenate((additional_array, yy_train))"
      ],
      "execution_count": 0,
      "outputs": []
    },
    {
      "cell_type": "code",
      "metadata": {
        "id": "2mypLok1L1UG",
        "colab_type": "code",
        "colab": {}
      },
      "source": [
        "yy_train"
      ],
      "execution_count": 0,
      "outputs": []
    },
    {
      "cell_type": "code",
      "metadata": {
        "id": "1mnfr7lxB293",
        "colab_type": "code",
        "colab": {}
      },
      "source": [
        "yyy = pd.Series(yy_train).shift(90)\n",
        "yyy"
      ],
      "execution_count": 0,
      "outputs": []
    },
    {
      "cell_type": "code",
      "metadata": {
        "id": "z8MZfAiGEbcb",
        "colab_type": "code",
        "colab": {}
      },
      "source": [
        "yyy.dropna(inplace=True)"
      ],
      "execution_count": 0,
      "outputs": []
    },
    {
      "cell_type": "code",
      "metadata": {
        "id": "bRD_nzrDCVlx",
        "colab_type": "code",
        "colab": {}
      },
      "source": [
        "yyy.shape"
      ],
      "execution_count": 0,
      "outputs": []
    },
    {
      "cell_type": "code",
      "metadata": {
        "id": "HKlvD8oqC7QF",
        "colab_type": "code",
        "colab": {}
      },
      "source": [
        "yyy = np.array(yyy)"
      ],
      "execution_count": 0,
      "outputs": []
    },
    {
      "cell_type": "code",
      "metadata": {
        "id": "5bNjnhBUDAE4",
        "colab_type": "code",
        "colab": {}
      },
      "source": [
        "yyy = yyy[:, np.newaxis]\n",
        "yyy.shape"
      ],
      "execution_count": 0,
      "outputs": []
    },
    {
      "cell_type": "code",
      "metadata": {
        "id": "PiBzQcMWC4Ix",
        "colab_type": "code",
        "colab": {}
      },
      "source": [
        "z = (yy_pred - yyy)/yyy \n",
        "z[-30:]"
      ],
      "execution_count": 0,
      "outputs": []
    },
    {
      "cell_type": "code",
      "metadata": {
        "id": "R28AEgysEcK-",
        "colab_type": "code",
        "colab": {}
      },
      "source": [
        "yyy_train = yy_train[90:, np.newaxis]\n",
        "yyy_train.shape"
      ],
      "execution_count": 0,
      "outputs": []
    },
    {
      "cell_type": "code",
      "metadata": {
        "id": "4mLQub7pMtyQ",
        "colab_type": "code",
        "colab": {}
      },
      "source": [
        "yyy_train"
      ],
      "execution_count": 0,
      "outputs": []
    },
    {
      "cell_type": "code",
      "metadata": {
        "id": "ylRMb-cVC6mn",
        "colab_type": "code",
        "colab": {}
      },
      "source": [
        "zz = (yyy_train - yyy)/yyy \n",
        "zz[-30:]"
      ],
      "execution_count": 0,
      "outputs": []
    },
    {
      "cell_type": "code",
      "metadata": {
        "id": "qbAiLzGDFRgg",
        "colab_type": "code",
        "colab": {}
      },
      "source": [
        "zzz = np.abs(zz - z)\n",
        "zzz[-30:]"
      ],
      "execution_count": 0,
      "outputs": []
    },
    {
      "cell_type": "code",
      "metadata": {
        "id": "-7tp23YZGY4H",
        "colab_type": "code",
        "colab": {}
      },
      "source": [
        "np.mean(zzz)"
      ],
      "execution_count": 0,
      "outputs": []
    },
    {
      "cell_type": "code",
      "metadata": {
        "id": "0zfjiF3f9heE",
        "colab_type": "code",
        "colab": {}
      },
      "source": [
        "plt.figure(figsize=(14, 5))\n",
        "plt.plot(yy_train, color='red', label='Real % Change in Google Stock Price')\n",
        "plt.plot(yy_pred, color='blue', label='Predicted % Change in Google Stock Price')\n",
        "plt.title('% Change in Google Stock Price')\n",
        "plt.xlabel('Time')\n",
        "plt.ylabel('% Change in Google Stock Price')\n",
        "plt.legend()\n",
        "plt.show()\n"
      ],
      "execution_count": 0,
      "outputs": []
    }
  ]
}